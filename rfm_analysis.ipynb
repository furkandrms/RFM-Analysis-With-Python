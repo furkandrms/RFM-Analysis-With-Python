{
 "cells": [
  {
   "cell_type": "markdown",
   "metadata": {},
   "source": [
    "## **FLO RFM İLE Müşteri Segmentasyonu**\n"
   ]
  },
  {
   "cell_type": "markdown",
   "metadata": {},
   "source": [
    "Online ayakkabı mağazası olan FLO müşterilerini segmentlere ayırıp bu segmentlere göre pazarlama stratejileri belirlemek istiyor. Buna yönelik olarak müşterilerin davranışları tanımlanacak ve bu davranışlardaki öbeklenmelere göre gruplar oluşturulacak.\n",
    "\n",
    "- master_id = Eşsiz müşteri numarası\n",
    "- order_channel = Alışverişyapılan platforma ait hangi kanalın kullanıldığı (Android, ios, Desktop, Mobile)\n",
    "- last_order_channel = En son alışverişin yapıldığı kanal\n",
    "- first_order_date = Müşterinin yaptığı ilk alışveriştarihi\n",
    "- last_order_date = Müşterinin yaptığı son alışveriştarihi\n",
    "- last_order_date_online = Müşterinin online platformda yaptığı son alışveriştarihi\n",
    "- last_order_date_offline = Müşterinin offline platformda yaptığı son alışveriştarihi\n",
    "- order_num_total_ever_online = Müşterinin online platformda yaptığı toplam alışverişsayısı\n",
    "- order_num_total_ever_offline = Müşterinin offline'da yaptığı toplam alışverişsayısı\n",
    "- customer_value_total_ever_offline = Müşterinin offline alışverişlerinde ödediği toplam ücret\n",
    "- customer_value_total_ever_online = Müşterinin online alışverişlerinde ödediği toplam ücret\n",
    "- interested_in_categories_12 = Müşterinin son 12 ayda alışveriş yaptığı kategorilerin listesi\n",
    "\n"
   ]
  },
  {
   "cell_type": "markdown",
   "metadata": {},
   "source": [
    "****Veriyi Hazırlama****"
   ]
  },
  {
   "cell_type": "markdown",
   "metadata": {},
   "source": [
    "- Öncelikle analizini yacapacağımız veri setimiz için gerekli olan kütüphaneleri içeri aktaralım. Sonrasında ise veri setimizi içeri aktarma işlemini gerçekleştirelim. "
   ]
  },
  {
   "cell_type": "code",
   "execution_count": 23,
   "metadata": {},
   "outputs": [],
   "source": [
    "import datetime as date\n",
    "import pandas as pd\n",
    "import seaborn as sns\n",
    "import matplotlib.pyplot as plt\n",
    "\n",
    "\n",
    "pd.set_option(\"display.max_columns\", None)\n",
    "pd.set_option(\"display.float_format\", (lambda x: \"%.5f\" %x))"
   ]
  },
  {
   "cell_type": "code",
   "execution_count": 2,
   "metadata": {},
   "outputs": [],
   "source": [
    "data = pd.read_csv(r\"C:\\Users\\HP\\OneDrive\\Masaüstü\\FLO_RFM_Analizi\\flo_data_20k.csv\")\n",
    "data_copy = data.copy()"
   ]
  },
  {
   "cell_type": "code",
   "execution_count": 3,
   "metadata": {},
   "outputs": [
    {
     "data": {
      "text/html": [
       "<div>\n",
       "<style scoped>\n",
       "    .dataframe tbody tr th:only-of-type {\n",
       "        vertical-align: middle;\n",
       "    }\n",
       "\n",
       "    .dataframe tbody tr th {\n",
       "        vertical-align: top;\n",
       "    }\n",
       "\n",
       "    .dataframe thead th {\n",
       "        text-align: right;\n",
       "    }\n",
       "</style>\n",
       "<table border=\"1\" class=\"dataframe\">\n",
       "  <thead>\n",
       "    <tr style=\"text-align: right;\">\n",
       "      <th></th>\n",
       "      <th>master_id</th>\n",
       "      <th>order_channel</th>\n",
       "      <th>last_order_channel</th>\n",
       "      <th>first_order_date</th>\n",
       "      <th>last_order_date</th>\n",
       "      <th>last_order_date_online</th>\n",
       "      <th>last_order_date_offline</th>\n",
       "      <th>order_num_total_ever_online</th>\n",
       "      <th>order_num_total_ever_offline</th>\n",
       "      <th>customer_value_total_ever_offline</th>\n",
       "      <th>customer_value_total_ever_online</th>\n",
       "      <th>interested_in_categories_12</th>\n",
       "    </tr>\n",
       "  </thead>\n",
       "  <tbody>\n",
       "    <tr>\n",
       "      <th>0</th>\n",
       "      <td>cc294636-19f0-11eb-8d74-000d3a38a36f</td>\n",
       "      <td>Android App</td>\n",
       "      <td>Offline</td>\n",
       "      <td>2020-10-30</td>\n",
       "      <td>2021-02-26</td>\n",
       "      <td>2021-02-21</td>\n",
       "      <td>2021-02-26</td>\n",
       "      <td>4.00000</td>\n",
       "      <td>1.00000</td>\n",
       "      <td>139.99000</td>\n",
       "      <td>799.38000</td>\n",
       "      <td>[KADIN]</td>\n",
       "    </tr>\n",
       "    <tr>\n",
       "      <th>1</th>\n",
       "      <td>f431bd5a-ab7b-11e9-a2fc-000d3a38a36f</td>\n",
       "      <td>Android App</td>\n",
       "      <td>Mobile</td>\n",
       "      <td>2017-02-08</td>\n",
       "      <td>2021-02-16</td>\n",
       "      <td>2021-02-16</td>\n",
       "      <td>2020-01-10</td>\n",
       "      <td>19.00000</td>\n",
       "      <td>2.00000</td>\n",
       "      <td>159.97000</td>\n",
       "      <td>1853.58000</td>\n",
       "      <td>[ERKEK, COCUK, KADIN, AKTIFSPOR]</td>\n",
       "    </tr>\n",
       "    <tr>\n",
       "      <th>2</th>\n",
       "      <td>69b69676-1a40-11ea-941b-000d3a38a36f</td>\n",
       "      <td>Android App</td>\n",
       "      <td>Android App</td>\n",
       "      <td>2019-11-27</td>\n",
       "      <td>2020-11-27</td>\n",
       "      <td>2020-11-27</td>\n",
       "      <td>2019-12-01</td>\n",
       "      <td>3.00000</td>\n",
       "      <td>2.00000</td>\n",
       "      <td>189.97000</td>\n",
       "      <td>395.35000</td>\n",
       "      <td>[ERKEK, KADIN]</td>\n",
       "    </tr>\n",
       "    <tr>\n",
       "      <th>3</th>\n",
       "      <td>1854e56c-491f-11eb-806e-000d3a38a36f</td>\n",
       "      <td>Android App</td>\n",
       "      <td>Android App</td>\n",
       "      <td>2021-01-06</td>\n",
       "      <td>2021-01-17</td>\n",
       "      <td>2021-01-17</td>\n",
       "      <td>2021-01-06</td>\n",
       "      <td>1.00000</td>\n",
       "      <td>1.00000</td>\n",
       "      <td>39.99000</td>\n",
       "      <td>81.98000</td>\n",
       "      <td>[AKTIFCOCUK, COCUK]</td>\n",
       "    </tr>\n",
       "    <tr>\n",
       "      <th>4</th>\n",
       "      <td>d6ea1074-f1f5-11e9-9346-000d3a38a36f</td>\n",
       "      <td>Desktop</td>\n",
       "      <td>Desktop</td>\n",
       "      <td>2019-08-03</td>\n",
       "      <td>2021-03-07</td>\n",
       "      <td>2021-03-07</td>\n",
       "      <td>2019-08-03</td>\n",
       "      <td>1.00000</td>\n",
       "      <td>1.00000</td>\n",
       "      <td>49.99000</td>\n",
       "      <td>159.99000</td>\n",
       "      <td>[AKTIFSPOR]</td>\n",
       "    </tr>\n",
       "  </tbody>\n",
       "</table>\n",
       "</div>"
      ],
      "text/plain": [
       "                              master_id order_channel last_order_channel  \\\n",
       "0  cc294636-19f0-11eb-8d74-000d3a38a36f   Android App            Offline   \n",
       "1  f431bd5a-ab7b-11e9-a2fc-000d3a38a36f   Android App             Mobile   \n",
       "2  69b69676-1a40-11ea-941b-000d3a38a36f   Android App        Android App   \n",
       "3  1854e56c-491f-11eb-806e-000d3a38a36f   Android App        Android App   \n",
       "4  d6ea1074-f1f5-11e9-9346-000d3a38a36f       Desktop            Desktop   \n",
       "\n",
       "  first_order_date last_order_date last_order_date_online  \\\n",
       "0       2020-10-30      2021-02-26             2021-02-21   \n",
       "1       2017-02-08      2021-02-16             2021-02-16   \n",
       "2       2019-11-27      2020-11-27             2020-11-27   \n",
       "3       2021-01-06      2021-01-17             2021-01-17   \n",
       "4       2019-08-03      2021-03-07             2021-03-07   \n",
       "\n",
       "  last_order_date_offline  order_num_total_ever_online  \\\n",
       "0              2021-02-26                      4.00000   \n",
       "1              2020-01-10                     19.00000   \n",
       "2              2019-12-01                      3.00000   \n",
       "3              2021-01-06                      1.00000   \n",
       "4              2019-08-03                      1.00000   \n",
       "\n",
       "   order_num_total_ever_offline  customer_value_total_ever_offline  \\\n",
       "0                       1.00000                          139.99000   \n",
       "1                       2.00000                          159.97000   \n",
       "2                       2.00000                          189.97000   \n",
       "3                       1.00000                           39.99000   \n",
       "4                       1.00000                           49.99000   \n",
       "\n",
       "   customer_value_total_ever_online       interested_in_categories_12  \n",
       "0                         799.38000                           [KADIN]  \n",
       "1                        1853.58000  [ERKEK, COCUK, KADIN, AKTIFSPOR]  \n",
       "2                         395.35000                    [ERKEK, KADIN]  \n",
       "3                          81.98000               [AKTIFCOCUK, COCUK]  \n",
       "4                         159.99000                       [AKTIFSPOR]  "
      ]
     },
     "execution_count": 3,
     "metadata": {},
     "output_type": "execute_result"
    }
   ],
   "source": [
    "data.head()"
   ]
  },
  {
   "cell_type": "markdown",
   "metadata": {},
   "source": [
    "- Veri Setimizde online ve offline olarak bulunan \"Toplam Satış Sayısı\" ve \"Toplam Ürün Satış Fiyatı\" sütunlarını birleştirelim. Sonrasında veri setimiz ile ilgili ön bilgi edinmek için sırasıyla işlemlerimizi gerçekleştirelim. "
   ]
  },
  {
   "cell_type": "code",
   "execution_count": 4,
   "metadata": {},
   "outputs": [],
   "source": [
    "data[\"Total_Order\"] = data[\"order_num_total_ever_online\"] +  data[\"order_num_total_ever_offline\"]\n",
    "data[\"Total_Value\"]  = data['customer_value_total_ever_offline'] + data['customer_value_total_ever_online']"
   ]
  },
  {
   "cell_type": "code",
   "execution_count": null,
   "metadata": {},
   "outputs": [],
   "source": [
    "data.columns"
   ]
  },
  {
   "cell_type": "code",
   "execution_count": null,
   "metadata": {},
   "outputs": [],
   "source": [
    "data.info()"
   ]
  },
  {
   "cell_type": "code",
   "execution_count": null,
   "metadata": {},
   "outputs": [],
   "source": [
    "data.isnull().sum()"
   ]
  },
  {
   "cell_type": "code",
   "execution_count": null,
   "metadata": {},
   "outputs": [],
   "source": [
    "data.describe().T"
   ]
  },
  {
   "cell_type": "code",
   "execution_count": null,
   "metadata": {},
   "outputs": [],
   "source": [
    "data.nunique()"
   ]
  },
  {
   "cell_type": "code",
   "execution_count": null,
   "metadata": {},
   "outputs": [],
   "source": [
    "data.info()"
   ]
  },
  {
   "cell_type": "markdown",
   "metadata": {},
   "source": [
    "Veri setimizde bulunan zamansal sütunların hepsinin veri tipi \"object\" olarak kaydedilmiş. Bunları \"date\" veri tipine dönüştürmemiz gerekmektedir. "
   ]
  },
  {
   "cell_type": "code",
   "execution_count": null,
   "metadata": {},
   "outputs": [],
   "source": [
    "date_columns = [col for col in data.columns if \"date\" in col]\n",
    "data[date_columns] = data[date_columns].apply(lambda x: pd.to_datetime(x, infer_datetime_format=True))"
   ]
  },
  {
   "cell_type": "code",
   "execution_count": null,
   "metadata": {},
   "outputs": [],
   "source": [
    "data.info()"
   ]
  },
  {
   "cell_type": "markdown",
   "metadata": {},
   "source": [
    "Müşterilerimizin hangi kanallardan daha çok alışveriş yaptıklarını görmek ve buna göre yorum yapmak için bir groupby() işlemi gerçekleştiriyoruz. "
   ]
  },
  {
   "cell_type": "code",
   "execution_count": 8,
   "metadata": {},
   "outputs": [
    {
     "data": {
      "text/html": [
       "<div>\n",
       "<style scoped>\n",
       "    .dataframe tbody tr th:only-of-type {\n",
       "        vertical-align: middle;\n",
       "    }\n",
       "\n",
       "    .dataframe tbody tr th {\n",
       "        vertical-align: top;\n",
       "    }\n",
       "\n",
       "    .dataframe thead th {\n",
       "        text-align: right;\n",
       "    }\n",
       "</style>\n",
       "<table border=\"1\" class=\"dataframe\">\n",
       "  <thead>\n",
       "    <tr style=\"text-align: right;\">\n",
       "      <th></th>\n",
       "      <th>master_id</th>\n",
       "      <th>Total_Order</th>\n",
       "      <th>Total_Value</th>\n",
       "    </tr>\n",
       "    <tr>\n",
       "      <th>order_channel</th>\n",
       "      <th></th>\n",
       "      <th></th>\n",
       "      <th></th>\n",
       "    </tr>\n",
       "  </thead>\n",
       "  <tbody>\n",
       "    <tr>\n",
       "      <th>Android App</th>\n",
       "      <td>9495</td>\n",
       "      <td>52269.00000</td>\n",
       "      <td>7819062.76000</td>\n",
       "    </tr>\n",
       "    <tr>\n",
       "      <th>Mobile</th>\n",
       "      <td>4882</td>\n",
       "      <td>21679.00000</td>\n",
       "      <td>3028183.16000</td>\n",
       "    </tr>\n",
       "    <tr>\n",
       "      <th>Ios App</th>\n",
       "      <td>2833</td>\n",
       "      <td>15351.00000</td>\n",
       "      <td>2525999.93000</td>\n",
       "    </tr>\n",
       "    <tr>\n",
       "      <th>Desktop</th>\n",
       "      <td>2735</td>\n",
       "      <td>10920.00000</td>\n",
       "      <td>1610321.46000</td>\n",
       "    </tr>\n",
       "  </tbody>\n",
       "</table>\n",
       "</div>"
      ],
      "text/plain": [
       "               master_id  Total_Order   Total_Value\n",
       "order_channel                                      \n",
       "Android App         9495  52269.00000 7819062.76000\n",
       "Mobile              4882  21679.00000 3028183.16000\n",
       "Ios App             2833  15351.00000 2525999.93000\n",
       "Desktop             2735  10920.00000 1610321.46000"
      ]
     },
     "execution_count": 8,
     "metadata": {},
     "output_type": "execute_result"
    }
   ],
   "source": [
    "data.groupby(\"order_channel\").agg({\"master_id\": \"count\",\n",
    "                                    \"Total_Order\": \"sum\", \n",
    "                                    \"Total_Value\": \"sum\"}).sort_values(\"Total_Value\",ascending=False).head(10)"
   ]
  },
  {
   "cell_type": "markdown",
   "metadata": {},
   "source": [
    "Grafikten de göreceğimiz gibi  kullanıcılarımız yoğunluklu olarak mobil uygulama üzerinden alışveriş yapmışlardır. "
   ]
  },
  {
   "cell_type": "code",
   "execution_count": 35,
   "metadata": {},
   "outputs": [
    {
     "data": {
      "text/plain": [
       "<seaborn.axisgrid.FacetGrid at 0x22ffa2b5550>"
      ]
     },
     "execution_count": 35,
     "metadata": {},
     "output_type": "execute_result"
    },
    {
     "data": {
      "image/png": "[encoded data removed]",
      "text/plain": [
       "<Figure size 360x360 with 1 Axes>"
      ]
     },
     "metadata": {
      "needs_background": "light"
     },
     "output_type": "display_data"
    }
   ],
   "source": [
    "sns.displot(data[\"order_channel\"])"
   ]
  },
  {
   "cell_type": "code",
   "execution_count": 38,
   "metadata": {},
   "outputs": [
    {
     "data": {
      "text/html": [
       "<div>\n",
       "<style scoped>\n",
       "    .dataframe tbody tr th:only-of-type {\n",
       "        vertical-align: middle;\n",
       "    }\n",
       "\n",
       "    .dataframe tbody tr th {\n",
       "        vertical-align: top;\n",
       "    }\n",
       "\n",
       "    .dataframe thead th {\n",
       "        text-align: right;\n",
       "    }\n",
       "</style>\n",
       "<table border=\"1\" class=\"dataframe\">\n",
       "  <thead>\n",
       "    <tr style=\"text-align: right;\">\n",
       "      <th></th>\n",
       "      <th>Total_Value</th>\n",
       "      <th>Total_Order</th>\n",
       "    </tr>\n",
       "    <tr>\n",
       "      <th>master_id</th>\n",
       "      <th></th>\n",
       "      <th></th>\n",
       "    </tr>\n",
       "  </thead>\n",
       "  <tbody>\n",
       "    <tr>\n",
       "      <th>5d1c466a-9cfd-11e9-9897-000d3a38a36f</th>\n",
       "      <td>45905.10000</td>\n",
       "      <td>202.00000</td>\n",
       "    </tr>\n",
       "    <tr>\n",
       "      <th>d5ef8058-a5c6-11e9-a2fc-000d3a38a36f</th>\n",
       "      <td>36818.29000</td>\n",
       "      <td>68.00000</td>\n",
       "    </tr>\n",
       "    <tr>\n",
       "      <th>73fd19aa-9e37-11e9-9897-000d3a38a36f</th>\n",
       "      <td>33918.10000</td>\n",
       "      <td>82.00000</td>\n",
       "    </tr>\n",
       "    <tr>\n",
       "      <th>7137a5c0-7aad-11ea-8f20-000d3a38a36f</th>\n",
       "      <td>31227.41000</td>\n",
       "      <td>11.00000</td>\n",
       "    </tr>\n",
       "    <tr>\n",
       "      <th>47a642fe-975b-11eb-8c2a-000d3a38a36f</th>\n",
       "      <td>20706.34000</td>\n",
       "      <td>4.00000</td>\n",
       "    </tr>\n",
       "    <tr>\n",
       "      <th>...</th>\n",
       "      <td>...</td>\n",
       "      <td>...</td>\n",
       "    </tr>\n",
       "    <tr>\n",
       "      <th>1af373d6-acbf-11e9-a2fc-000d3a38a36f</th>\n",
       "      <td>55.18000</td>\n",
       "      <td>2.00000</td>\n",
       "    </tr>\n",
       "    <tr>\n",
       "      <th>0dd9a790-7d63-11ea-80af-000d3a38a36f</th>\n",
       "      <td>53.47000</td>\n",
       "      <td>2.00000</td>\n",
       "    </tr>\n",
       "    <tr>\n",
       "      <th>1e2dd6cc-0b1e-11eb-8ffc-000d3a38a36f</th>\n",
       "      <td>49.98000</td>\n",
       "      <td>2.00000</td>\n",
       "    </tr>\n",
       "    <tr>\n",
       "      <th>08b95b62-a987-11e9-a2fc-000d3a38a36f</th>\n",
       "      <td>44.98000</td>\n",
       "      <td>2.00000</td>\n",
       "    </tr>\n",
       "    <tr>\n",
       "      <th>0769f8d0-d627-11e9-93bc-000d3a38a36f</th>\n",
       "      <td>44.98000</td>\n",
       "      <td>2.00000</td>\n",
       "    </tr>\n",
       "  </tbody>\n",
       "</table>\n",
       "<p>19945 rows × 2 columns</p>\n",
       "</div>"
      ],
      "text/plain": [
       "                                      Total_Value  Total_Order\n",
       "master_id                                                     \n",
       "5d1c466a-9cfd-11e9-9897-000d3a38a36f  45905.10000    202.00000\n",
       "d5ef8058-a5c6-11e9-a2fc-000d3a38a36f  36818.29000     68.00000\n",
       "73fd19aa-9e37-11e9-9897-000d3a38a36f  33918.10000     82.00000\n",
       "7137a5c0-7aad-11ea-8f20-000d3a38a36f  31227.41000     11.00000\n",
       "47a642fe-975b-11eb-8c2a-000d3a38a36f  20706.34000      4.00000\n",
       "...                                           ...          ...\n",
       "1af373d6-acbf-11e9-a2fc-000d3a38a36f     55.18000      2.00000\n",
       "0dd9a790-7d63-11ea-80af-000d3a38a36f     53.47000      2.00000\n",
       "1e2dd6cc-0b1e-11eb-8ffc-000d3a38a36f     49.98000      2.00000\n",
       "08b95b62-a987-11e9-a2fc-000d3a38a36f     44.98000      2.00000\n",
       "0769f8d0-d627-11e9-93bc-000d3a38a36f     44.98000      2.00000\n",
       "\n",
       "[19945 rows x 2 columns]"
      ]
     },
     "execution_count": 38,
     "metadata": {},
     "output_type": "execute_result"
    }
   ],
   "source": [
    "data.groupby(\"master_id\").agg({\"Total_Value\":\"sum\", \n",
    "                               \"Total_Order\":\"sum\"}).sort_values(\"Total_Value\",ascending=False)"
   ]
  },
  {
   "cell_type": "code",
   "execution_count": null,
   "metadata": {},
   "outputs": [],
   "source": [
    "data.sort_values(\"Total_Value\", ascending=False)"
   ]
  },
  {
   "cell_type": "code",
   "execution_count": 59,
   "metadata": {},
   "outputs": [
    {
     "data": {
      "text/html": [
       "<div>\n",
       "<style scoped>\n",
       "    .dataframe tbody tr th:only-of-type {\n",
       "        vertical-align: middle;\n",
       "    }\n",
       "\n",
       "    .dataframe tbody tr th {\n",
       "        vertical-align: top;\n",
       "    }\n",
       "\n",
       "    .dataframe thead th {\n",
       "        text-align: right;\n",
       "    }\n",
       "</style>\n",
       "<table border=\"1\" class=\"dataframe\">\n",
       "  <thead>\n",
       "    <tr style=\"text-align: right;\">\n",
       "      <th></th>\n",
       "      <th>Total_Value</th>\n",
       "      <th>Total_Order</th>\n",
       "    </tr>\n",
       "    <tr>\n",
       "      <th>master_id</th>\n",
       "      <th></th>\n",
       "      <th></th>\n",
       "    </tr>\n",
       "  </thead>\n",
       "  <tbody>\n",
       "    <tr>\n",
       "      <th>5d1c466a-9cfd-11e9-9897-000d3a38a36f</th>\n",
       "      <td>45905.10000</td>\n",
       "      <td>202.00000</td>\n",
       "    </tr>\n",
       "    <tr>\n",
       "      <th>cba59206-9dd1-11e9-9897-000d3a38a36f</th>\n",
       "      <td>12282.24000</td>\n",
       "      <td>131.00000</td>\n",
       "    </tr>\n",
       "    <tr>\n",
       "      <th>a57f4302-b1a8-11e9-89fa-000d3a38a36f</th>\n",
       "      <td>10383.44000</td>\n",
       "      <td>111.00000</td>\n",
       "    </tr>\n",
       "    <tr>\n",
       "      <th>fdbe8304-a7ab-11e9-a2fc-000d3a38a36f</th>\n",
       "      <td>8572.23000</td>\n",
       "      <td>88.00000</td>\n",
       "    </tr>\n",
       "    <tr>\n",
       "      <th>329968c6-a0e2-11e9-a2fc-000d3a38a36f</th>\n",
       "      <td>4240.36000</td>\n",
       "      <td>83.00000</td>\n",
       "    </tr>\n",
       "    <tr>\n",
       "      <th>...</th>\n",
       "      <td>...</td>\n",
       "      <td>...</td>\n",
       "    </tr>\n",
       "    <tr>\n",
       "      <th>2db9812c-a125-11e9-a2fc-000d3a38a36f</th>\n",
       "      <td>299.98000</td>\n",
       "      <td>2.00000</td>\n",
       "    </tr>\n",
       "    <tr>\n",
       "      <th>ab404e04-1660-11ea-aa74-000d3a38a36f</th>\n",
       "      <td>220.86000</td>\n",
       "      <td>2.00000</td>\n",
       "    </tr>\n",
       "    <tr>\n",
       "      <th>ab33f8fc-1358-11eb-8ffc-000d3a38a36f</th>\n",
       "      <td>325.96000</td>\n",
       "      <td>2.00000</td>\n",
       "    </tr>\n",
       "    <tr>\n",
       "      <th>2dbb6ef2-7206-11eb-aa44-000d3a38a36f</th>\n",
       "      <td>227.48000</td>\n",
       "      <td>2.00000</td>\n",
       "    </tr>\n",
       "    <tr>\n",
       "      <th>2cc8cce2-ac4b-11e9-a2fc-000d3a38a36f</th>\n",
       "      <td>209.98000</td>\n",
       "      <td>2.00000</td>\n",
       "    </tr>\n",
       "  </tbody>\n",
       "</table>\n",
       "<p>19945 rows × 2 columns</p>\n",
       "</div>"
      ],
      "text/plain": [
       "                                      Total_Value  Total_Order\n",
       "master_id                                                     \n",
       "5d1c466a-9cfd-11e9-9897-000d3a38a36f  45905.10000    202.00000\n",
       "cba59206-9dd1-11e9-9897-000d3a38a36f  12282.24000    131.00000\n",
       "a57f4302-b1a8-11e9-89fa-000d3a38a36f  10383.44000    111.00000\n",
       "fdbe8304-a7ab-11e9-a2fc-000d3a38a36f   8572.23000     88.00000\n",
       "329968c6-a0e2-11e9-a2fc-000d3a38a36f   4240.36000     83.00000\n",
       "...                                           ...          ...\n",
       "2db9812c-a125-11e9-a2fc-000d3a38a36f    299.98000      2.00000\n",
       "ab404e04-1660-11ea-aa74-000d3a38a36f    220.86000      2.00000\n",
       "ab33f8fc-1358-11eb-8ffc-000d3a38a36f    325.96000      2.00000\n",
       "2dbb6ef2-7206-11eb-aa44-000d3a38a36f    227.48000      2.00000\n",
       "2cc8cce2-ac4b-11e9-a2fc-000d3a38a36f    209.98000      2.00000\n",
       "\n",
       "[19945 rows x 2 columns]"
      ]
     },
     "execution_count": 59,
     "metadata": {},
     "output_type": "execute_result"
    }
   ],
   "source": [
    "data.groupby(\"master_id\").agg({\"Total_Value\":\"sum\", \n",
    "                               \"Total_Order\":\"sum\"}).sort_values(\"Total_Order\",ascending=False)"
   ]
  },
  {
   "cell_type": "markdown",
   "metadata": {},
   "source": [
    "Özet olarak yukarıda yaptığımız tüm işlemleri bir fonksiyon haline getirelim. "
   ]
  },
  {
   "cell_type": "code",
   "execution_count": null,
   "metadata": {},
   "outputs": [],
   "source": [
    "\n",
    "def data_preperation(dataframe,head=10): \n",
    "    \n",
    "    dataframe.head()\n",
    "    dataframe.info()\n",
    "    dataframe.describe().T\n",
    "    dataframe.isnull().sum()\n",
    "    \n",
    "    \n",
    "    dataframe[\"order_num_total_ever_omnichannel\"] = dataframe[\"order_num_total_ever_online\"] + dataframe[\"order_num_total_ever_offline\"]\n",
    "    dataframe[\"customer_value_total_ever_omnichannel\"] = dataframe[\"customer_value_total_ever_online\"] + dataframe[\"customer_value_total_ever_offline\"]\n",
    "    \n",
    "    \n",
    "    date_columns = [col for col in dataframe.columns if \"date\" in col] \n",
    "    dataframe[date_columns] = dataframe[date_columns].apply(lambda x: pd.to_datetime(x, infer_datetime_format=True))\n",
    "    \n",
    "    dataframe.groupby(\"order_channel\").agg({\"master_id\": \"count\",\n",
    "                                            \"order_num_total_ever_omnichannel\": \"sum\",\n",
    "                                            \"customer_value_total_ever_omnichannel\" : \"sum\"})\n",
    "   \n",
    "    dataframe.groupby(\"order_channel\").agg({\"order_num_total_ever_omnichannel\": \"sum\"}).sort_values(\"order_num_total_ever_omnichannel\", ascending=False).head()\n",
    "    \n",
    "    \n",
    "    dataframe.groupby(\"order_channel\").agg({\"customer_value_total_ever_omnichannel\": \"sum\"}).sort_values(\"customer_value_total_ever_omnichannel\", ascending=False).head()\n",
    "    \n",
    "    return dataframe\n",
    "\n",
    "\n",
    "data_preperation(data_copy)\n",
    "    \n",
    "    "
   ]
  },
  {
   "cell_type": "markdown",
   "metadata": {},
   "source": [
    "\n",
    "## **RFM Metriklerinin Belirlenmesi**"
   ]
  },
  {
   "cell_type": "markdown",
   "metadata": {},
   "source": [
    "RFM analizi müşteri segmentasyonu yapmamıza yarayan bir tekniktir. Daha da açacak olursak konuyu, şirketler müşterilerinin satın alma alışkanlıkları üzerinden gruplara ayırarak yeni stratejiler geliştirmelerine olanak sağlar.\n",
    "\n",
    "Şirketler yaptıkları bu analiz ile birlikte müşterileri için her gruba uygun farklı indirimler uygulayabilir yada satın almalarını kolaylaştıracak farklı stratejiler geliştirebilir.\n",
    "\n",
    "RFM kelimesi farklı kelimelerin baş harflerinin birleşmesinden oluşmuştur. Bunlar Recency, Frequency ve Monetary kelimeleridir. Her kelime aslında RFM içinde müşteri ile ilgili bilgiler verir.\n",
    "\n",
    "**Recency**: Kelime anlamı olarak “Yenilik” anlamını taşır. Müşterilerinizin, ürününüzü son satın almasından itibaren geçen süre için kullanılır. Bunun hesaplanması da analize başladığınız günü baz alarak hesaplanır. Müşteri ne kadar yeni satın alım yaptıysa sizin için o kadar iyidir.\n",
    "\n",
    "**( Formül = Analizin Yapıldığı Tarih — Son Satın Alma Tarihi )**\n",
    "\n",
    "**Frequency**: Kelime anlamı olarak “Sıklık” anlamına gelmektedir. Müşterinin sizinle ne kadar çok satın alım işleminde bulunduğunu gösteren parametredir. Müşteri ne kadar çok satın alma işlemi yaptıysa şirket için o kadar önemlidir.\n",
    "\n",
    "**Monetary**: Kelime anlamı olarak “Parasal Değer” anlamına gelmektedir. Müşterinin yaptığı işlem ücretlerinin toplamını gösteren parametredir. Müşterinin yaptığı işlemlere bağlı olarak yatırdığı para ne kadar çok ise şirket içinde değeri o kadar yüksektir."
   ]
  },
  {
   "cell_type": "code",
   "execution_count": null,
   "metadata": {},
   "outputs": [],
   "source": [
    "\n",
    "last_purchase = data.last_order_date.max()\n",
    "last_purchase"
   ]
  },
  {
   "cell_type": "code",
   "execution_count": null,
   "metadata": {},
   "outputs": [],
   "source": [
    "today_date = date.datetime(2021,6,1)\n",
    "today_date"
   ]
  },
  {
   "cell_type": "code",
   "execution_count": null,
   "metadata": {},
   "outputs": [],
   "source": [
    "RFM = data.groupby(\"master_id\").agg({\"last_order_date\": lambda last_order_date:( today_date - last_order_date.max()).days, \n",
    "                               \"Total_Order\": lambda y: y, \n",
    "                               \"Total_Value\": lambda x: x})"
   ]
  },
  {
   "cell_type": "code",
   "execution_count": null,
   "metadata": {},
   "outputs": [],
   "source": [
    "RFM.columns = [\"Recency\",\"Frequency\",\"Monetary\"]\n",
    "RFM.head()"
   ]
  },
  {
   "cell_type": "code",
   "execution_count": null,
   "metadata": {},
   "outputs": [],
   "source": [
    "RFM[\"Recency_Score\"] = pd.qcut(RFM[\"Recency\"], 5, [5,4,3,2,1])\n",
    "RFM[\"Frequency_Score\"] = pd.qcut(RFM[\"Frequency\"].rank(method=\"first\"), 5, [1,2,3,4,5])\n",
    "RFM[\"Monetary_Score\"] = pd.qcut(RFM[\"Monetary\"], 5, [1,2,3,4,5])"
   ]
  },
  {
   "cell_type": "code",
   "execution_count": null,
   "metadata": {},
   "outputs": [],
   "source": [
    "RFM.head()"
   ]
  },
  {
   "cell_type": "code",
   "execution_count": null,
   "metadata": {},
   "outputs": [],
   "source": [
    "RFM[\"RFM_Score\"] = RFM[\"Recency_Score\"].astype(str) + RFM[\"Frequency_Score\"].astype(str)"
   ]
  },
  {
   "cell_type": "code",
   "execution_count": null,
   "metadata": {},
   "outputs": [],
   "source": [
    "seg_map = {\n",
    "    r'[1-2][1-2]': 'hibernating',\n",
    "    r'[1-2][3-4]': 'at_Risk',\n",
    "    r'[1-2]5': 'cant_loose',\n",
    "    r'3[1-2]': 'about_to_sleep',\n",
    "    r'33': 'need_attention',\n",
    "    r'[3-4][4-5]': 'loyal_customers',\n",
    "    r'41': 'promising',\n",
    "    r'51': 'new_customers',\n",
    "    r'[4-5][2-3]': 'potential_loyalists',\n",
    "    r'5[4-5]': 'champions'\n",
    "}\n"
   ]
  },
  {
   "cell_type": "code",
   "execution_count": null,
   "metadata": {},
   "outputs": [],
   "source": [
    "RFM[\"segment\"] = RFM[\"RFM_Score\"].replace(seg_map, regex=True)\n"
   ]
  },
  {
   "cell_type": "code",
   "execution_count": null,
   "metadata": {},
   "outputs": [],
   "source": [
    "RFM.groupby(\"segment\").agg([\"mean\", \"count\"])"
   ]
  },
  {
   "cell_type": "code",
   "execution_count": null,
   "metadata": {},
   "outputs": [],
   "source": [
    "segment_id = RFM[(RFM[\"segment\"] == \"champions\") | (RFM[\"segment\"] == \"loyal_customers\")].index\n",
    "segment_id \n"
   ]
  },
  {
   "cell_type": "code",
   "execution_count": null,
   "metadata": {},
   "outputs": [],
   "source": [
    "segment_id_data = data[pd.Series([x in segment_id for x in data[\"master_id\"]])]\n",
    "segment_id_data = segment_id_data.to_csv(\"segment_id_data.csv\")"
   ]
  },
  {
   "cell_type": "code",
   "execution_count": null,
   "metadata": {},
   "outputs": [],
   "source": [
    "segment_id = RFM[(RFM[\"segment\"] == \"about_to_sleep\") | (RFM[\"segment\"] == \"new_customers\")].index\n",
    "segment_id\n"
   ]
  },
  {
   "cell_type": "code",
   "execution_count": null,
   "metadata": {},
   "outputs": [],
   "source": [
    "segment_id_data = data[pd.Series(x in segment_id for x in data[\"master_id\"])]\n",
    "segment_id_data = segment_id_data.to_csv(\"segment_id_data1.csv\")"
   ]
  }
 ],
 "metadata": {
  "kernelspec": {
   "display_name": "Python 3.9.2 64-bit",
   "language": "python",
   "name": "python3"
  },
  "language_info": {
   "codemirror_mode": {
    "name": "ipython",
    "version": 3
   },
   "file_extension": ".py",
   "mimetype": "text/x-python",
   "name": "python",
   "nbconvert_exporter": "python",
   "pygments_lexer": "ipython3",
   "version": "3.9.2"
  },
  "orig_nbformat": 4,
  "vscode": {
   "interpreter": {
    "hash": "f6246b25e200e4c5124e3e61789ac81350562f0761bbcf92ad9e48654207659c"
   }
  }
 },
 "nbformat": 4,
 "nbformat_minor": 2
}
